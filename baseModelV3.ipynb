{
 "cells": [
  {
   "cell_type": "markdown",
   "metadata": {},
   "source": [
    "# MODEL V3"
   ]
  },
  {
   "cell_type": "code",
   "execution_count": 1,
   "metadata": {},
   "outputs": [],
   "source": [
    "# import all libraries\n",
    "import numpy as np\n",
    "import pandas as pd\n",
    "import tensorflow as tf\n",
    "import re\n",
    "import json \n",
    "import csv\n",
    "import os\n",
    "import datetime \n",
    "import time\n",
    "\n",
    "from sklearn.preprocessing import LabelEncoder\n",
    "from sklearn.model_selection import train_test_split, RepeatedKFold, KFold\n",
    "from sklearn.ensemble import RandomForestClassifier, RandomForestRegressor\n",
    "from sklearn.metrics import classification_report, accuracy_score\n",
    "from sklearn.cluster import MiniBatchKMeans\n",
    "from sklearn.preprocessing import OneHotEncoder, LabelEncoder\n",
    "from sklearn .compose import make_column_transformer\n",
    "\n",
    "from keras.models import Sequential\n",
    "from keras.layers import Dense"
   ]
  },
  {
   "cell_type": "code",
   "execution_count": 2,
   "metadata": {},
   "outputs": [],
   "source": [
    "'''\n",
    "Spotify OAuth to access API\n",
    "'''\n",
    "import requests\n",
    "import spotipy\n",
    "from spotipy.oauth2 import SpotifyClientCredentials\n",
    "\n",
    "sp = spotipy.Spotify(auth_manager=SpotifyClientCredentials(\n",
    "                    client_id=\"\", \n",
    "                    client_secret=\"\"))"
   ]
  },
  {
   "cell_type": "markdown",
   "metadata": {},
   "source": [
    "## Load and clean training data"
   ]
  },
  {
   "cell_type": "code",
   "execution_count": 3,
   "metadata": {},
   "outputs": [],
   "source": [
    "'''\n",
    "Method to access Google location history file 'records.json'\n",
    "Get the timestamp and location (lat, long) attributes\n",
    "and save to csv file\n",
    "'''\n",
    "def process_location_history(file_path, data_writer):\n",
    "    with open(file_path, encoding='utf-8-sig') as file:\n",
    "        data = json.load(file)\n",
    "        try:\n",
    "            for obj in data['locations']:\n",
    "                if 'timestamp' in obj:\n",
    "                    timestamp = obj['timestamp']\n",
    "                    try:\n",
    "                        datetime_obj = datetime.datetime.strptime(timestamp, '%Y-%m-%dT%H:%M:%SZ')\n",
    "                    except ValueError:\n",
    "                        datetime_obj = datetime.datetime.strptime(timestamp, '%Y-%m-%dT%H:%M:%S.%fZ')\n",
    "                    \n",
    "                    ts_format = \"%Y-%m-%d %H:%M:%S\"\n",
    "                    ts = datetime_obj.strftime(ts_format)\n",
    "                    lat = obj['latitudeE7'] / 10**7\n",
    "                    lon = obj['longitudeE7'] / 10**7\n",
    "                    data_writer.writerow([ts, lat, lon])\n",
    "        except KeyError:\n",
    "                print('\\r',end=\" \")"
   ]
  },
  {
   "cell_type": "code",
   "execution_count": 4,
   "metadata": {},
   "outputs": [],
   "source": [
    "'''\n",
    "Convert Spotify timestamp format to match location data\n",
    "'''\n",
    "def convert_timestamp(timestamp_str):\n",
    "    timestamp_obj = datetime.datetime.strptime(timestamp_str, \"%Y-%m-%dT%H:%M:%SZ\")\n",
    "    new_format = \"%Y-%m-%d %H:%M:%S\"\n",
    "    formatted_timestamp = timestamp_obj.strftime(new_format)\n",
    "    return formatted_timestamp"
   ]
  },
  {
   "cell_type": "code",
   "execution_count": 5,
   "metadata": {},
   "outputs": [],
   "source": [
    "'''\n",
    "Read listening history json records into single dataframe\n",
    "'''\n",
    "def process_listening_history(root_dir):\n",
    "    list_hist_files = []\n",
    "    for subdir, dirs, files in os.walk(root_dir):\n",
    "        for file in files:\n",
    "            if file.endswith(\".json\"):\n",
    "                # append each listening history file to a list file to be loaded\n",
    "                file_path = os.path.join(subdir, file)\n",
    "                list_hist_files.append(file_path)\n",
    "\n",
    "    # load all files into a single dataframe\n",
    "    frames = [pd.read_json(f) for f in list_hist_files]\n",
    "    listening_df = pd.concat(frames, ignore_index=True, sort=True)\n",
    "\n",
    "    # Remove columns that wont be obtainable through 'Get recently played tracks' API call\n",
    "    column_to_remove = ['username', 'platform', 'ip_addr_decrypted', 'user_agent_decrypted', \n",
    "                        'master_metadata_track_name', 'master_metadata_album_artist_name',\n",
    "                        'master_metadata_album_album_name', 'episode_name', 'episode_show_name',\n",
    "                        'spotify_episode_uri', 'shuffle',  'offline', 'offline_timestamp',\n",
    "                        'incognito_mode', 'skipped', 'reason_start', 'reason_end']\n",
    "    listening_df.drop(labels=column_to_remove, axis=1, inplace=True)\n",
    "    \n",
    "    # Only get listening history for songs in listened to SG\n",
    "    listening_df = listening_df[listening_df['conn_country'] == 'SG']\n",
    "    listening_df.drop(labels='conn_country', axis=1, inplace=True)\n",
    "    \n",
    "    # convert  timestamp to match location history\n",
    "    listening_df['ts'] = listening_df['ts'].apply(lambda x: convert_timestamp(x))\n",
    "    \n",
    "    return listening_df"
   ]
  },
  {
   "cell_type": "code",
   "execution_count": 6,
   "metadata": {},
   "outputs": [],
   "source": [
    "# Load data\n",
    "\n",
    "# Read location records into a dataframe\n",
    "location_json_file = os.path.join(os.getcwd() + \"/Training_Data/Records.json\")\n",
    "location_csv_file = os.path.join(os.getcwd() + \"/Training_Data/ferozLocationHistory.csv\")\n",
    "\n",
    "with open(location_csv_file, 'w', newline='') as outfile:\n",
    "    data_writer = csv.writer(outfile)\n",
    "    data_writer.writerow([\"ts\", \"lat\", \"lon\"])\n",
    "    process_location_history(location_json_file, data_writer)\n",
    "location_df = pd.read_csv(location_csv_file)\n",
    "\n",
    "# Read listening history files into a dataframe\n",
    "root_dir = os.path.join(os.getcwd() +\"/Training_Data/MySpotifyExtendedData\")\n",
    "listening_df = process_listening_history(root_dir)\n",
    "\n",
    "# drop null rows\n",
    "listening_df = listening_df.dropna(axis=0)\n",
    "\n",
    "# sort both dataframes by ts\n",
    "listening_df.sort_values(by='ts',axis=0,inplace=True)\n",
    "location_df.sort_values(by='ts',axis=0,inplace=True)"
   ]
  },
  {
   "cell_type": "code",
   "execution_count": 7,
   "metadata": {},
   "outputs": [],
   "source": [
    "'''\n",
    "Convert timestamp to nearest minute\n",
    "'''\n",
    "def convert_timestamp_to_nearest_min(timestamp_str):\n",
    "    timestamp_obj = datetime.datetime.strptime(timestamp_str, \"%Y-%m-%d %H:%M:%S\")\n",
    "    new_format = \"%Y-%m-%d %H:%M\"\n",
    "    formatted_timestamp = timestamp_obj.strftime(new_format)\n",
    "    return formatted_timestamp"
   ]
  },
  {
   "cell_type": "code",
   "execution_count": 8,
   "metadata": {},
   "outputs": [],
   "source": [
    "# Convert timestamp to nearest minute\n",
    "listening_df['ts'] = listening_df['ts'].apply(lambda x: convert_timestamp_to_nearest_min(x))\n",
    "location_df['ts'] = location_df['ts'].apply(lambda x: convert_timestamp_to_nearest_min(x))\n",
    "\n",
    "# Merge the two tables based on timestamp\n",
    "merged_df = pd.merge(listening_df, location_df, on='ts', how='outer')\n",
    "\n",
    "# Drop null rows (i.e. rows without matching location/listening record)\n",
    "merged_df.dropna(axis=0, inplace=True)\n",
    "\n",
    "# Drop duplicate rows\n",
    "merged_df.drop_duplicates(keep='first', inplace=True)"
   ]
  },
  {
   "cell_type": "code",
   "execution_count": 9,
   "metadata": {},
   "outputs": [],
   "source": [
    "'''\n",
    "Get track attributes for all unique songs from spotify API\n",
    "'''\n",
    "def getTrackAttributes(tracks, batch_size):\n",
    "    \n",
    "    # Split track list to batches of 100 unique songs due to API constraints\n",
    "    track_batches = [tracks[i: i+batch_size] for i in range(0, len(tracks), batch_size)]\n",
    "\n",
    "    # Empty list to store track features\n",
    "    track_features = [] \n",
    "\n",
    "    # Get track features in batches and add to end of list\n",
    "    for batch in track_batches:\n",
    "        batch_track_features = sp.audio_features(batch)\n",
    "        track_features.extend(batch_track_features)\n",
    "\n",
    "    return pd.DataFrame(track_features)"
   ]
  },
  {
   "cell_type": "code",
   "execution_count": 10,
   "metadata": {},
   "outputs": [],
   "source": [
    "# Get list of unique songs \n",
    "track_list = merged_df['spotify_track_uri'].unique().tolist()\n",
    "\n",
    "# Get track attributes\n",
    "track_features_df = getTrackAttributes(track_list, 100)\n",
    "\n",
    "# Drop columns which are meta info about track features\n",
    "track_features_df.drop(labels=['type','id','track_href','analysis_url'], \n",
    "                        axis=1, \n",
    "                        inplace=True)\n",
    "\n",
    "# Rename to match merged df naming convention\n",
    "track_features_df.rename(columns={'uri':'spotify_track_uri'}, inplace=True)\n",
    "\n",
    "# Merge with main dataframe\n",
    "merged_df = pd.merge(left=merged_df,\n",
    "                    right=track_features_df,\n",
    "                    on='spotify_track_uri',\n",
    "                    how='left',\n",
    "                    suffixes=(\"_x\", \"_y\"))\n",
    "\n",
    "# Get how long the song was played based on time played / cong length\n",
    "merged_df['percentage_played'] = (merged_df['ms_played'] / merged_df['duration_ms'] * 1.00)\n",
    "\n",
    "# Set threshold as 0.95 (i.e. if you listened to 95% of the sing -> you liked it)\n",
    "# Only accept songs that were were played up to 95% of song length\n",
    "threshold = 0.95 \n",
    "merged_df = merged_df[merged_df['percentage_played'] >= threshold]\n",
    "\n",
    "# Drop unnecessary columns once done\n",
    "drop_columns = ['percentage_played', 'ms_played', 'duration_ms', 'spotify_track_uri']\n",
    "merged_df.drop(labels=drop_columns, inplace=True, axis=1)                    "
   ]
  },
  {
   "cell_type": "code",
   "execution_count": 11,
   "metadata": {},
   "outputs": [],
   "source": [
    "# Round the location to 3 decimal places\n",
    "merged_df['lat'] = merged_df['lat'].apply(lambda x:round(x, 3))\n",
    "merged_df['lon'] = merged_df['lon'].apply(lambda x:round(x, 3))"
   ]
  },
  {
   "cell_type": "code",
   "execution_count": 13,
   "metadata": {},
   "outputs": [
    {
     "data": {
      "text/plain": [
       "(5452, 15)"
      ]
     },
     "execution_count": 13,
     "metadata": {},
     "output_type": "execute_result"
    }
   ],
   "source": [
    "merged_df.shape"
   ]
  },
  {
   "cell_type": "code",
   "execution_count": 16,
   "metadata": {},
   "outputs": [
    {
     "data": {
      "text/html": [
       "<div>\n",
       "<style scoped>\n",
       "    .dataframe tbody tr th:only-of-type {\n",
       "        vertical-align: middle;\n",
       "    }\n",
       "\n",
       "    .dataframe tbody tr th {\n",
       "        vertical-align: top;\n",
       "    }\n",
       "\n",
       "    .dataframe thead th {\n",
       "        text-align: right;\n",
       "    }\n",
       "</style>\n",
       "<table border=\"1\" class=\"dataframe\">\n",
       "  <thead>\n",
       "    <tr style=\"text-align: right;\">\n",
       "      <th></th>\n",
       "      <th>count</th>\n",
       "      <th>mean</th>\n",
       "      <th>std</th>\n",
       "      <th>min</th>\n",
       "      <th>25%</th>\n",
       "      <th>50%</th>\n",
       "      <th>75%</th>\n",
       "      <th>max</th>\n",
       "    </tr>\n",
       "  </thead>\n",
       "  <tbody>\n",
       "    <tr>\n",
       "      <th>lat</th>\n",
       "      <td>5452.0</td>\n",
       "      <td>1.357764</td>\n",
       "      <td>0.516754</td>\n",
       "      <td>1.263000</td>\n",
       "      <td>1.312000</td>\n",
       "      <td>1.319500</td>\n",
       "      <td>1.351000</td>\n",
       "      <td>10.817</td>\n",
       "    </tr>\n",
       "    <tr>\n",
       "      <th>lon</th>\n",
       "      <td>5452.0</td>\n",
       "      <td>103.803853</td>\n",
       "      <td>0.191631</td>\n",
       "      <td>101.708000</td>\n",
       "      <td>103.706000</td>\n",
       "      <td>103.846000</td>\n",
       "      <td>103.852000</td>\n",
       "      <td>106.699</td>\n",
       "    </tr>\n",
       "    <tr>\n",
       "      <th>danceability</th>\n",
       "      <td>5452.0</td>\n",
       "      <td>0.549066</td>\n",
       "      <td>0.148806</td>\n",
       "      <td>0.070500</td>\n",
       "      <td>0.449000</td>\n",
       "      <td>0.552000</td>\n",
       "      <td>0.657000</td>\n",
       "      <td>0.982</td>\n",
       "    </tr>\n",
       "    <tr>\n",
       "      <th>energy</th>\n",
       "      <td>5452.0</td>\n",
       "      <td>0.513911</td>\n",
       "      <td>0.207483</td>\n",
       "      <td>0.002900</td>\n",
       "      <td>0.361000</td>\n",
       "      <td>0.502000</td>\n",
       "      <td>0.662000</td>\n",
       "      <td>0.995</td>\n",
       "    </tr>\n",
       "    <tr>\n",
       "      <th>key</th>\n",
       "      <td>5452.0</td>\n",
       "      <td>5.193874</td>\n",
       "      <td>3.527809</td>\n",
       "      <td>0.000000</td>\n",
       "      <td>2.000000</td>\n",
       "      <td>5.000000</td>\n",
       "      <td>8.000000</td>\n",
       "      <td>11.000</td>\n",
       "    </tr>\n",
       "    <tr>\n",
       "      <th>loudness</th>\n",
       "      <td>5452.0</td>\n",
       "      <td>-8.094598</td>\n",
       "      <td>3.327246</td>\n",
       "      <td>-34.716000</td>\n",
       "      <td>-9.684000</td>\n",
       "      <td>-7.618500</td>\n",
       "      <td>-5.836000</td>\n",
       "      <td>0.915</td>\n",
       "    </tr>\n",
       "    <tr>\n",
       "      <th>mode</th>\n",
       "      <td>5452.0</td>\n",
       "      <td>0.763756</td>\n",
       "      <td>0.424812</td>\n",
       "      <td>0.000000</td>\n",
       "      <td>1.000000</td>\n",
       "      <td>1.000000</td>\n",
       "      <td>1.000000</td>\n",
       "      <td>1.000</td>\n",
       "    </tr>\n",
       "    <tr>\n",
       "      <th>speechiness</th>\n",
       "      <td>5452.0</td>\n",
       "      <td>0.073958</td>\n",
       "      <td>0.087156</td>\n",
       "      <td>0.022200</td>\n",
       "      <td>0.032600</td>\n",
       "      <td>0.041000</td>\n",
       "      <td>0.069300</td>\n",
       "      <td>0.934</td>\n",
       "    </tr>\n",
       "    <tr>\n",
       "      <th>acousticness</th>\n",
       "      <td>5452.0</td>\n",
       "      <td>0.417138</td>\n",
       "      <td>0.327248</td>\n",
       "      <td>0.000006</td>\n",
       "      <td>0.083525</td>\n",
       "      <td>0.392000</td>\n",
       "      <td>0.736000</td>\n",
       "      <td>0.996</td>\n",
       "    </tr>\n",
       "    <tr>\n",
       "      <th>instrumentalness</th>\n",
       "      <td>5452.0</td>\n",
       "      <td>0.048189</td>\n",
       "      <td>0.171201</td>\n",
       "      <td>0.000000</td>\n",
       "      <td>0.000000</td>\n",
       "      <td>0.000006</td>\n",
       "      <td>0.000594</td>\n",
       "      <td>0.966</td>\n",
       "    </tr>\n",
       "    <tr>\n",
       "      <th>liveness</th>\n",
       "      <td>5452.0</td>\n",
       "      <td>0.163358</td>\n",
       "      <td>0.114612</td>\n",
       "      <td>0.024300</td>\n",
       "      <td>0.099875</td>\n",
       "      <td>0.117000</td>\n",
       "      <td>0.181000</td>\n",
       "      <td>0.950</td>\n",
       "    </tr>\n",
       "    <tr>\n",
       "      <th>valence</th>\n",
       "      <td>5452.0</td>\n",
       "      <td>0.361949</td>\n",
       "      <td>0.199978</td>\n",
       "      <td>0.018900</td>\n",
       "      <td>0.213000</td>\n",
       "      <td>0.326500</td>\n",
       "      <td>0.485000</td>\n",
       "      <td>0.966</td>\n",
       "    </tr>\n",
       "    <tr>\n",
       "      <th>tempo</th>\n",
       "      <td>5452.0</td>\n",
       "      <td>118.619414</td>\n",
       "      <td>30.477095</td>\n",
       "      <td>47.971000</td>\n",
       "      <td>92.956000</td>\n",
       "      <td>117.956000</td>\n",
       "      <td>139.997000</td>\n",
       "      <td>210.534</td>\n",
       "    </tr>\n",
       "    <tr>\n",
       "      <th>time_signature</th>\n",
       "      <td>5452.0</td>\n",
       "      <td>3.904072</td>\n",
       "      <td>0.379446</td>\n",
       "      <td>1.000000</td>\n",
       "      <td>4.000000</td>\n",
       "      <td>4.000000</td>\n",
       "      <td>4.000000</td>\n",
       "      <td>5.000</td>\n",
       "    </tr>\n",
       "  </tbody>\n",
       "</table>\n",
       "</div>"
      ],
      "text/plain": [
       "                   count        mean        std         min         25%   \n",
       "lat               5452.0    1.357764   0.516754    1.263000    1.312000  \\\n",
       "lon               5452.0  103.803853   0.191631  101.708000  103.706000   \n",
       "danceability      5452.0    0.549066   0.148806    0.070500    0.449000   \n",
       "energy            5452.0    0.513911   0.207483    0.002900    0.361000   \n",
       "key               5452.0    5.193874   3.527809    0.000000    2.000000   \n",
       "loudness          5452.0   -8.094598   3.327246  -34.716000   -9.684000   \n",
       "mode              5452.0    0.763756   0.424812    0.000000    1.000000   \n",
       "speechiness       5452.0    0.073958   0.087156    0.022200    0.032600   \n",
       "acousticness      5452.0    0.417138   0.327248    0.000006    0.083525   \n",
       "instrumentalness  5452.0    0.048189   0.171201    0.000000    0.000000   \n",
       "liveness          5452.0    0.163358   0.114612    0.024300    0.099875   \n",
       "valence           5452.0    0.361949   0.199978    0.018900    0.213000   \n",
       "tempo             5452.0  118.619414  30.477095   47.971000   92.956000   \n",
       "time_signature    5452.0    3.904072   0.379446    1.000000    4.000000   \n",
       "\n",
       "                         50%         75%      max  \n",
       "lat                 1.319500    1.351000   10.817  \n",
       "lon               103.846000  103.852000  106.699  \n",
       "danceability        0.552000    0.657000    0.982  \n",
       "energy              0.502000    0.662000    0.995  \n",
       "key                 5.000000    8.000000   11.000  \n",
       "loudness           -7.618500   -5.836000    0.915  \n",
       "mode                1.000000    1.000000    1.000  \n",
       "speechiness         0.041000    0.069300    0.934  \n",
       "acousticness        0.392000    0.736000    0.996  \n",
       "instrumentalness    0.000006    0.000594    0.966  \n",
       "liveness            0.117000    0.181000    0.950  \n",
       "valence             0.326500    0.485000    0.966  \n",
       "tempo             117.956000  139.997000  210.534  \n",
       "time_signature      4.000000    4.000000    5.000  "
      ]
     },
     "execution_count": 16,
     "metadata": {},
     "output_type": "execute_result"
    }
   ],
   "source": [
    "merged_df.describe().T"
   ]
  },
  {
   "cell_type": "code",
   "execution_count": 14,
   "metadata": {},
   "outputs": [
    {
     "data": {
      "text/html": [
       "<div>\n",
       "<style scoped>\n",
       "    .dataframe tbody tr th:only-of-type {\n",
       "        vertical-align: middle;\n",
       "    }\n",
       "\n",
       "    .dataframe tbody tr th {\n",
       "        vertical-align: top;\n",
       "    }\n",
       "\n",
       "    .dataframe thead th {\n",
       "        text-align: right;\n",
       "    }\n",
       "</style>\n",
       "<table border=\"1\" class=\"dataframe\">\n",
       "  <thead>\n",
       "    <tr style=\"text-align: right;\">\n",
       "      <th></th>\n",
       "      <th>ts</th>\n",
       "      <th>lat</th>\n",
       "      <th>lon</th>\n",
       "      <th>danceability</th>\n",
       "      <th>energy</th>\n",
       "      <th>key</th>\n",
       "      <th>loudness</th>\n",
       "      <th>mode</th>\n",
       "      <th>speechiness</th>\n",
       "      <th>acousticness</th>\n",
       "      <th>instrumentalness</th>\n",
       "      <th>liveness</th>\n",
       "      <th>valence</th>\n",
       "      <th>tempo</th>\n",
       "      <th>time_signature</th>\n",
       "    </tr>\n",
       "  </thead>\n",
       "  <tbody>\n",
       "    <tr>\n",
       "      <th>9</th>\n",
       "      <td>2017-11-02 10:32</td>\n",
       "      <td>1.280</td>\n",
       "      <td>103.850</td>\n",
       "      <td>0.603</td>\n",
       "      <td>0.557</td>\n",
       "      <td>0</td>\n",
       "      <td>-6.863</td>\n",
       "      <td>1</td>\n",
       "      <td>0.0659</td>\n",
       "      <td>0.20400</td>\n",
       "      <td>0.000564</td>\n",
       "      <td>0.0998</td>\n",
       "      <td>0.301</td>\n",
       "      <td>99.845</td>\n",
       "      <td>4</td>\n",
       "    </tr>\n",
       "    <tr>\n",
       "      <th>11</th>\n",
       "      <td>2017-11-02 10:39</td>\n",
       "      <td>1.282</td>\n",
       "      <td>103.849</td>\n",
       "      <td>0.570</td>\n",
       "      <td>0.289</td>\n",
       "      <td>3</td>\n",
       "      <td>-8.854</td>\n",
       "      <td>1</td>\n",
       "      <td>0.0687</td>\n",
       "      <td>0.84300</td>\n",
       "      <td>0.000000</td>\n",
       "      <td>0.1300</td>\n",
       "      <td>0.339</td>\n",
       "      <td>81.566</td>\n",
       "      <td>4</td>\n",
       "    </tr>\n",
       "    <tr>\n",
       "      <th>24</th>\n",
       "      <td>2017-11-02 12:29</td>\n",
       "      <td>1.313</td>\n",
       "      <td>103.849</td>\n",
       "      <td>0.465</td>\n",
       "      <td>0.896</td>\n",
       "      <td>2</td>\n",
       "      <td>-3.126</td>\n",
       "      <td>1</td>\n",
       "      <td>0.0795</td>\n",
       "      <td>0.00725</td>\n",
       "      <td>0.000000</td>\n",
       "      <td>0.2060</td>\n",
       "      <td>0.569</td>\n",
       "      <td>181.014</td>\n",
       "      <td>4</td>\n",
       "    </tr>\n",
       "    <tr>\n",
       "      <th>25</th>\n",
       "      <td>2017-11-02 12:29</td>\n",
       "      <td>1.312</td>\n",
       "      <td>103.848</td>\n",
       "      <td>0.465</td>\n",
       "      <td>0.896</td>\n",
       "      <td>2</td>\n",
       "      <td>-3.126</td>\n",
       "      <td>1</td>\n",
       "      <td>0.0795</td>\n",
       "      <td>0.00725</td>\n",
       "      <td>0.000000</td>\n",
       "      <td>0.2060</td>\n",
       "      <td>0.569</td>\n",
       "      <td>181.014</td>\n",
       "      <td>4</td>\n",
       "    </tr>\n",
       "    <tr>\n",
       "      <th>38</th>\n",
       "      <td>2017-11-03 00:30</td>\n",
       "      <td>1.326</td>\n",
       "      <td>103.890</td>\n",
       "      <td>0.688</td>\n",
       "      <td>0.375</td>\n",
       "      <td>2</td>\n",
       "      <td>-10.066</td>\n",
       "      <td>0</td>\n",
       "      <td>0.0398</td>\n",
       "      <td>0.40500</td>\n",
       "      <td>0.259000</td>\n",
       "      <td>0.0992</td>\n",
       "      <td>0.214</td>\n",
       "      <td>100.014</td>\n",
       "      <td>4</td>\n",
       "    </tr>\n",
       "  </tbody>\n",
       "</table>\n",
       "</div>"
      ],
      "text/plain": [
       "                  ts    lat      lon  danceability  energy  key  loudness   \n",
       "9   2017-11-02 10:32  1.280  103.850         0.603   0.557    0    -6.863  \\\n",
       "11  2017-11-02 10:39  1.282  103.849         0.570   0.289    3    -8.854   \n",
       "24  2017-11-02 12:29  1.313  103.849         0.465   0.896    2    -3.126   \n",
       "25  2017-11-02 12:29  1.312  103.848         0.465   0.896    2    -3.126   \n",
       "38  2017-11-03 00:30  1.326  103.890         0.688   0.375    2   -10.066   \n",
       "\n",
       "    mode  speechiness  acousticness  instrumentalness  liveness  valence   \n",
       "9      1       0.0659       0.20400          0.000564    0.0998    0.301  \\\n",
       "11     1       0.0687       0.84300          0.000000    0.1300    0.339   \n",
       "24     1       0.0795       0.00725          0.000000    0.2060    0.569   \n",
       "25     1       0.0795       0.00725          0.000000    0.2060    0.569   \n",
       "38     0       0.0398       0.40500          0.259000    0.0992    0.214   \n",
       "\n",
       "      tempo  time_signature  \n",
       "9    99.845               4  \n",
       "11   81.566               4  \n",
       "24  181.014               4  \n",
       "25  181.014               4  \n",
       "38  100.014               4  "
      ]
     },
     "execution_count": 14,
     "metadata": {},
     "output_type": "execute_result"
    }
   ],
   "source": [
    "merged_df.head()"
   ]
  },
  {
   "cell_type": "code",
   "execution_count": 15,
   "metadata": {},
   "outputs": [
    {
     "name": "stdout",
     "output_type": "stream",
     "text": [
      "<class 'pandas.core.frame.DataFrame'>\n",
      "Index: 5452 entries, 9 to 16723\n",
      "Data columns (total 15 columns):\n",
      " #   Column            Non-Null Count  Dtype  \n",
      "---  ------            --------------  -----  \n",
      " 0   ts                5452 non-null   object \n",
      " 1   lat               5452 non-null   float64\n",
      " 2   lon               5452 non-null   float64\n",
      " 3   danceability      5452 non-null   float64\n",
      " 4   energy            5452 non-null   float64\n",
      " 5   key               5452 non-null   int64  \n",
      " 6   loudness          5452 non-null   float64\n",
      " 7   mode              5452 non-null   int64  \n",
      " 8   speechiness       5452 non-null   float64\n",
      " 9   acousticness      5452 non-null   float64\n",
      " 10  instrumentalness  5452 non-null   float64\n",
      " 11  liveness          5452 non-null   float64\n",
      " 12  valence           5452 non-null   float64\n",
      " 13  tempo             5452 non-null   float64\n",
      " 14  time_signature    5452 non-null   int64  \n",
      "dtypes: float64(11), int64(3), object(1)\n",
      "memory usage: 681.5+ KB\n"
     ]
    }
   ],
   "source": [
    "merged_df.info()"
   ]
  },
  {
   "cell_type": "code",
   "execution_count": 17,
   "metadata": {},
   "outputs": [
    {
     "data": {
      "text/plain": [
       "Text(0.5, 1.0, 'Track_feature_heatmap')"
      ]
     },
     "execution_count": 17,
     "metadata": {},
     "output_type": "execute_result"
    },
    {
     "data": {
      "image/png": "[encoded data removed]",
      "text/plain": [
       "<Figure size 640x480 with 2 Axes>"
      ]
     },
     "metadata": {},
     "output_type": "display_data"
    },
    {
     "data": {
      "text/plain": [
       "<Figure size 1600x800 with 0 Axes>"
      ]
     },
     "metadata": {},
     "output_type": "display_data"
    }
   ],
   "source": [
    "# Check VIF of track attributes for any strong multicollinearity\n",
    "\n",
    "import matplotlib.pyplot as plt\n",
    "import seaborn as sns\n",
    "\n",
    "track_features = merged_df[['danceability', 'energy', 'key', 'loudness', 'mode',\n",
    "                    'speechiness', 'acousticness', 'instrumentalness', 'liveness',\n",
    "                    'valence', 'tempo', 'time_signature']]\n",
    "\n",
    "\n",
    "mask = np.triu(np.ones_like(track_features.corr(), dtype=bool))\n",
    "heatmap = sns.heatmap(track_features.corr(), mask = mask, vmin= -1, vmax = 1, cmap='BrBG', linewidth=.5)\n",
    "\n",
    "plt.figure(figsize=(16,8))\n",
    "heatmap.set_title('Track_feature_heatmap', fontdict={'fontsize':18}, pad=16)"
   ]
  },
  {
   "cell_type": "code",
   "execution_count": 19,
   "metadata": {},
   "outputs": [
    {
     "data": {
      "text/plain": [
       "Index(['ts', 'lat', 'lon', 'danceability', 'energy', 'key', 'loudness', 'mode',\n",
       "       'speechiness', 'acousticness', 'instrumentalness', 'liveness',\n",
       "       'valence', 'tempo', 'time_signature'],\n",
       "      dtype='object')"
      ]
     },
     "execution_count": 19,
     "metadata": {},
     "output_type": "execute_result"
    }
   ],
   "source": [
    "merged_df.columns"
   ]
  },
  {
   "cell_type": "code",
   "execution_count": 54,
   "metadata": {},
   "outputs": [],
   "source": [
    "# save as CSV file\n",
    "merged_df.to_csv('train_data.csv', index=False)"
   ]
  },
  {
   "cell_type": "markdown",
   "metadata": {},
   "source": [
    "## Feature engineering"
   ]
  },
  {
   "cell_type": "code",
   "execution_count": 14,
   "metadata": {},
   "outputs": [],
   "source": [
    "'''\n",
    "Convert timestamp to hour only\n",
    "'''\n",
    "def hour_block(hour):\n",
    "    result = (hour + 8) % 23\n",
    "    return result // 4"
   ]
  },
  {
   "cell_type": "code",
   "execution_count": 15,
   "metadata": {},
   "outputs": [],
   "source": [
    "'''\n",
    "Convert timestamp to hour only\n",
    "'''\n",
    "def hour_block(hour):\n",
    "    result = (hour + 8) % 23\n",
    "    return result // 4\n",
    "\n",
    "'''\n",
    "OHE timestamp to blocks of 4 hour \n",
    "''' \n",
    "def fe_timestamp(df):\n",
    "    df['hour'] = pd.DatetimeIndex(df['ts']).hour\n",
    "    df['time_fe'] = df['hour'].apply(hour_block).astype(object)\n",
    "    "
   ]
  },
  {
   "cell_type": "code",
   "execution_count": 51,
   "metadata": {},
   "outputs": [],
   "source": [
    "'''\n",
    "Assign cartesian coordinate (latitude, longitude) to a grid cell in grid table\n",
    "'''\n",
    "\n",
    "def fe_coordinates(df):\n",
    "\n",
    "    # Set boundaries for Singapore\n",
    "    lonmin = 101.333\n",
    "    lonmax = 104.412\n",
    "    latmin = 1.083\n",
    "    latmax = 4.0\n",
    "    \n",
    "    # Create grid cells\n",
    "    grid_size = 0.1\n",
    "    lat_bins = pd.interval_range(start=latmin,end=latmax, freq=grid_size)\n",
    "    lon_bins = pd.interval_range(start=lonmin,end=lonmax, freq=grid_size)\n",
    "\n",
    "    # Method to round the label to nearest 2 decimal\n",
    "    def round_interval_label(label):\n",
    "        return round(label.left, 2)\n",
    "    \n",
    "    # Round the label \n",
    "    rounded_lat_label = (pd.cut(df['lat'], bins=lat_bins, labels=False)\n",
    "                      .apply(round_interval_label))\n",
    "    rounded_lon_label = (pd.cut(df['lon'], bins=lon_bins, labels=False)\n",
    "                      .apply(round_interval_label))\n",
    "\n",
    "    # assign coordinate to grid cell\n",
    "    df['location_fe'] = (rounded_lat_label.astype(str) +\n",
    "                        '_' +  \n",
    "                        rounded_lon_label.astype(str))\n",
    "    \n",
    "    # Remove location records with 'nan_nan' after feature engineering\n",
    "    # df.drop(df[df['location_fe_nan_nan'] == True].index, inplace=True)\n",
    "    def remove_nana_from_location(df):\n",
    "        df.drop(df[df['location_fe'] == 'nan_nan'].index, inplace=True)\n",
    "    remove_nana_from_location(df)\n"
   ]
  },
  {
   "cell_type": "code",
   "execution_count": 46,
   "metadata": {},
   "outputs": [],
   "source": [
    "# Remove location records with 'nan_nan' after feature engineering\n",
    "\n",
    "def remove_nana_from_location(df):\n",
    "    df.drop(df[df['location_fe'] == 'nan_nan'].index, inplace=True)"
   ]
  },
  {
   "cell_type": "code",
   "execution_count": 52,
   "metadata": {},
   "outputs": [
    {
     "data": {
      "text/html": [
       "<div>\n",
       "<style scoped>\n",
       "    .dataframe tbody tr th:only-of-type {\n",
       "        vertical-align: middle;\n",
       "    }\n",
       "\n",
       "    .dataframe tbody tr th {\n",
       "        vertical-align: top;\n",
       "    }\n",
       "\n",
       "    .dataframe thead th {\n",
       "        text-align: right;\n",
       "    }\n",
       "</style>\n",
       "<table border=\"1\" class=\"dataframe\">\n",
       "  <thead>\n",
       "    <tr style=\"text-align: right;\">\n",
       "      <th></th>\n",
       "      <th>danceability</th>\n",
       "      <th>energy</th>\n",
       "      <th>key</th>\n",
       "      <th>loudness</th>\n",
       "      <th>mode</th>\n",
       "      <th>speechiness</th>\n",
       "      <th>acousticness</th>\n",
       "      <th>instrumentalness</th>\n",
       "      <th>liveness</th>\n",
       "      <th>valence</th>\n",
       "      <th>...</th>\n",
       "      <th>location_fe_1.98_102.88</th>\n",
       "      <th>location_fe_1.98_102.99</th>\n",
       "      <th>location_fe_2.08_102.68</th>\n",
       "      <th>location_fe_2.08_102.78</th>\n",
       "      <th>location_fe_2.18_102.57</th>\n",
       "      <th>location_fe_2.38_102.06</th>\n",
       "      <th>location_fe_2.38_102.16</th>\n",
       "      <th>location_fe_2.68_101.75</th>\n",
       "      <th>location_fe_2.88_101.75</th>\n",
       "      <th>location_fe_2.98_101.64</th>\n",
       "    </tr>\n",
       "  </thead>\n",
       "  <tbody>\n",
       "    <tr>\n",
       "      <th>0</th>\n",
       "      <td>0.603</td>\n",
       "      <td>0.557</td>\n",
       "      <td>0</td>\n",
       "      <td>-6.863</td>\n",
       "      <td>1</td>\n",
       "      <td>0.0659</td>\n",
       "      <td>0.20400</td>\n",
       "      <td>0.000564</td>\n",
       "      <td>0.0998</td>\n",
       "      <td>0.301</td>\n",
       "      <td>...</td>\n",
       "      <td>False</td>\n",
       "      <td>False</td>\n",
       "      <td>False</td>\n",
       "      <td>False</td>\n",
       "      <td>False</td>\n",
       "      <td>False</td>\n",
       "      <td>False</td>\n",
       "      <td>False</td>\n",
       "      <td>False</td>\n",
       "      <td>False</td>\n",
       "    </tr>\n",
       "    <tr>\n",
       "      <th>1</th>\n",
       "      <td>0.570</td>\n",
       "      <td>0.289</td>\n",
       "      <td>3</td>\n",
       "      <td>-8.854</td>\n",
       "      <td>1</td>\n",
       "      <td>0.0687</td>\n",
       "      <td>0.84300</td>\n",
       "      <td>0.000000</td>\n",
       "      <td>0.1300</td>\n",
       "      <td>0.339</td>\n",
       "      <td>...</td>\n",
       "      <td>False</td>\n",
       "      <td>False</td>\n",
       "      <td>False</td>\n",
       "      <td>False</td>\n",
       "      <td>False</td>\n",
       "      <td>False</td>\n",
       "      <td>False</td>\n",
       "      <td>False</td>\n",
       "      <td>False</td>\n",
       "      <td>False</td>\n",
       "    </tr>\n",
       "    <tr>\n",
       "      <th>2</th>\n",
       "      <td>0.465</td>\n",
       "      <td>0.896</td>\n",
       "      <td>2</td>\n",
       "      <td>-3.126</td>\n",
       "      <td>1</td>\n",
       "      <td>0.0795</td>\n",
       "      <td>0.00725</td>\n",
       "      <td>0.000000</td>\n",
       "      <td>0.2060</td>\n",
       "      <td>0.569</td>\n",
       "      <td>...</td>\n",
       "      <td>False</td>\n",
       "      <td>False</td>\n",
       "      <td>False</td>\n",
       "      <td>False</td>\n",
       "      <td>False</td>\n",
       "      <td>False</td>\n",
       "      <td>False</td>\n",
       "      <td>False</td>\n",
       "      <td>False</td>\n",
       "      <td>False</td>\n",
       "    </tr>\n",
       "    <tr>\n",
       "      <th>3</th>\n",
       "      <td>0.465</td>\n",
       "      <td>0.896</td>\n",
       "      <td>2</td>\n",
       "      <td>-3.126</td>\n",
       "      <td>1</td>\n",
       "      <td>0.0795</td>\n",
       "      <td>0.00725</td>\n",
       "      <td>0.000000</td>\n",
       "      <td>0.2060</td>\n",
       "      <td>0.569</td>\n",
       "      <td>...</td>\n",
       "      <td>False</td>\n",
       "      <td>False</td>\n",
       "      <td>False</td>\n",
       "      <td>False</td>\n",
       "      <td>False</td>\n",
       "      <td>False</td>\n",
       "      <td>False</td>\n",
       "      <td>False</td>\n",
       "      <td>False</td>\n",
       "      <td>False</td>\n",
       "    </tr>\n",
       "    <tr>\n",
       "      <th>4</th>\n",
       "      <td>0.688</td>\n",
       "      <td>0.375</td>\n",
       "      <td>2</td>\n",
       "      <td>-10.066</td>\n",
       "      <td>0</td>\n",
       "      <td>0.0398</td>\n",
       "      <td>0.40500</td>\n",
       "      <td>0.259000</td>\n",
       "      <td>0.0992</td>\n",
       "      <td>0.214</td>\n",
       "      <td>...</td>\n",
       "      <td>False</td>\n",
       "      <td>False</td>\n",
       "      <td>False</td>\n",
       "      <td>False</td>\n",
       "      <td>False</td>\n",
       "      <td>False</td>\n",
       "      <td>False</td>\n",
       "      <td>False</td>\n",
       "      <td>False</td>\n",
       "      <td>False</td>\n",
       "    </tr>\n",
       "  </tbody>\n",
       "</table>\n",
       "<p>5 rows × 40 columns</p>\n",
       "</div>"
      ],
      "text/plain": [
       "   danceability  energy  key  loudness  mode  speechiness  acousticness   \n",
       "0         0.603   0.557    0    -6.863     1       0.0659       0.20400  \\\n",
       "1         0.570   0.289    3    -8.854     1       0.0687       0.84300   \n",
       "2         0.465   0.896    2    -3.126     1       0.0795       0.00725   \n",
       "3         0.465   0.896    2    -3.126     1       0.0795       0.00725   \n",
       "4         0.688   0.375    2   -10.066     0       0.0398       0.40500   \n",
       "\n",
       "   instrumentalness  liveness  valence  ...  location_fe_1.98_102.88   \n",
       "0          0.000564    0.0998    0.301  ...                    False  \\\n",
       "1          0.000000    0.1300    0.339  ...                    False   \n",
       "2          0.000000    0.2060    0.569  ...                    False   \n",
       "3          0.000000    0.2060    0.569  ...                    False   \n",
       "4          0.259000    0.0992    0.214  ...                    False   \n",
       "\n",
       "   location_fe_1.98_102.99  location_fe_2.08_102.68  location_fe_2.08_102.78   \n",
       "0                    False                    False                    False  \\\n",
       "1                    False                    False                    False   \n",
       "2                    False                    False                    False   \n",
       "3                    False                    False                    False   \n",
       "4                    False                    False                    False   \n",
       "\n",
       "   location_fe_2.18_102.57  location_fe_2.38_102.06  location_fe_2.38_102.16   \n",
       "0                    False                    False                    False  \\\n",
       "1                    False                    False                    False   \n",
       "2                    False                    False                    False   \n",
       "3                    False                    False                    False   \n",
       "4                    False                    False                    False   \n",
       "\n",
       "   location_fe_2.68_101.75  location_fe_2.88_101.75  location_fe_2.98_101.64  \n",
       "0                    False                    False                    False  \n",
       "1                    False                    False                    False  \n",
       "2                    False                    False                    False  \n",
       "3                    False                    False                    False  \n",
       "4                    False                    False                    False  \n",
       "\n",
       "[5 rows x 40 columns]"
      ]
     },
     "execution_count": 52,
     "metadata": {},
     "output_type": "execute_result"
    }
   ],
   "source": [
    "'''\n",
    "Perform FE\n",
    "'''\n",
    "# make copy of df \n",
    "df_copy = merged_df.copy(deep=True)\n",
    "\n",
    "# perform fe on timestamp\n",
    "fe_timestamp(df=df_copy)\n",
    "\n",
    "# perform fe on coordinates\n",
    "fe_coordinates(df=df_copy)\n",
    "\n",
    "# Drop null columns from feature engineered location\n",
    "# remove_nana_from_location(df=df_copy)\n",
    "\n",
    "# drop original columns\n",
    "original_columns = ['ts','lat','lon','hour']\n",
    "df_copy.drop(labels=original_columns, inplace=True, axis=1)\n",
    "\n",
    "# perform ohe on fe columns\n",
    "df = pd.get_dummies(data= df_copy, columns=['time_fe','location_fe'])\n",
    "\n",
    "# reset index\n",
    "df.reset_index(level=None, drop=True, inplace=True)\n",
    "\n",
    "df.head()"
   ]
  },
  {
   "cell_type": "code",
   "execution_count": 53,
   "metadata": {},
   "outputs": [
    {
     "data": {
      "text/plain": [
       "Index(['danceability', 'energy', 'key', 'loudness', 'mode', 'speechiness',\n",
       "       'acousticness', 'instrumentalness', 'liveness', 'valence', 'tempo',\n",
       "       'time_signature', 'time_fe_0', 'time_fe_1', 'time_fe_2', 'time_fe_3',\n",
       "       'time_fe_4', 'time_fe_5', 'location_fe_1.18_103.71',\n",
       "       'location_fe_1.18_103.82', 'location_fe_1.28_103.61',\n",
       "       'location_fe_1.28_103.71', 'location_fe_1.28_103.82',\n",
       "       'location_fe_1.28_103.92', 'location_fe_1.38_103.71',\n",
       "       'location_fe_1.38_103.82', 'location_fe_1.58_103.4',\n",
       "       'location_fe_1.68_103.4', 'location_fe_1.88_103.09',\n",
       "       'location_fe_1.88_103.2', 'location_fe_1.98_102.88',\n",
       "       'location_fe_1.98_102.99', 'location_fe_2.08_102.68',\n",
       "       'location_fe_2.08_102.78', 'location_fe_2.18_102.57',\n",
       "       'location_fe_2.38_102.06', 'location_fe_2.38_102.16',\n",
       "       'location_fe_2.68_101.75', 'location_fe_2.88_101.75',\n",
       "       'location_fe_2.98_101.64'],\n",
       "      dtype='object')"
      ]
     },
     "execution_count": 53,
     "metadata": {},
     "output_type": "execute_result"
    }
   ],
   "source": [
    "df.columns"
   ]
  },
  {
   "cell_type": "markdown",
   "metadata": {},
   "source": [
    "## Clustering approach"
   ]
  },
  {
   "cell_type": "code",
   "execution_count": 21,
   "metadata": {},
   "outputs": [
    {
     "data": {
      "application/vnd.plotly.v1+json": {
       "config": {
        "plotlyServerURL": "https://plot.ly"
       },
       "data": [
        {
         "hovertemplate": "No. of Clusters=%{x}<br>wcss=%{y}<extra></extra>",
         "legendgroup": "",
         "line": {
          "color": "#636efa",
          "dash": "solid"
         },
         "marker": {
          "symbol": "circle"
         },
         "mode": "lines",
         "name": "",
         "orientation": "v",
         "showlegend": false,
         "type": "scatter",
         "x": [
          1,
          2,
          3,
          4,
          5,
          6,
          7,
          8,
          9,
          10,
          11,
          12,
          13,
          14,
          15,
          16,
          17,
          18,
          19
         ],
         "xaxis": "x",
         "y": [
          7605.151905536683,
          5667.12798122654,
          4693.177875976302,
          4530.757703670555,
          3798.5769089975365,
          3237.310876882765,
          2525.3604093707677,
          1935.1959010038363,
          1564.2460168714035,
          1257.2779852924818,
          1094.0167320321916,
          963.94677654063,
          881.7123884557199,
          746.7356014713814,
          636.7870354615061,
          527.6069651965851,
          403.46048036333417,
          449.25827787149825,
          361.49389086133516
         ],
         "yaxis": "y"
        }
       ],
       "layout": {
        "legend": {
         "tracegroupgap": 0
        },
        "template": {
         "data": {
          "bar": [
           {
            "error_x": {
             "color": "#2a3f5f"
            },
            "error_y": {
             "color": "#2a3f5f"
            },
            "marker": {
             "line": {
              "color": "#E5ECF6",
              "width": 0.5
             },
             "pattern": {
              "fillmode": "overlay",
              "size": 10,
              "solidity": 0.2
             }
            },
            "type": "bar"
           }
          ],
          "barpolar": [
           {
            "marker": {
             "line": {
              "color": "#E5ECF6",
              "width": 0.5
             },
             "pattern": {
              "fillmode": "overlay",
              "size": 10,
              "solidity": 0.2
             }
            },
            "type": "barpolar"
           }
          ],
          "carpet": [
           {
            "aaxis": {
             "endlinecolor": "#2a3f5f",
             "gridcolor": "white",
             "linecolor": "white",
             "minorgridcolor": "white",
             "startlinecolor": "#2a3f5f"
            },
            "baxis": {
             "endlinecolor": "#2a3f5f",
             "gridcolor": "white",
             "linecolor": "white",
             "minorgridcolor": "white",
             "startlinecolor": "#2a3f5f"
            },
            "type": "carpet"
           }
          ],
          "choropleth": [
           {
            "colorbar": {
             "outlinewidth": 0,
             "ticks": ""
            },
            "type": "choropleth"
           }
          ],
          "contour": [
           {
            "colorbar": {
             "outlinewidth": 0,
             "ticks": ""
            },
            "colorscale": [
             [
              0,
              "#0d0887"
             ],
             [
              0.1111111111111111,
              "#46039f"
             ],
             [
              0.2222222222222222,
              "#7201a8"
             ],
             [
              0.3333333333333333,
              "#9c179e"
             ],
             [
              0.4444444444444444,
              "#bd3786"
             ],
             [
              0.5555555555555556,
              "#d8576b"
             ],
             [
              0.6666666666666666,
              "#ed7953"
             ],
             [
              0.7777777777777778,
              "#fb9f3a"
             ],
             [
              0.8888888888888888,
              "#fdca26"
             ],
             [
              1,
              "#f0f921"
             ]
            ],
            "type": "contour"
           }
          ],
          "contourcarpet": [
           {
            "colorbar": {
             "outlinewidth": 0,
             "ticks": ""
            },
            "type": "contourcarpet"
           }
          ],
          "heatmap": [
           {
            "colorbar": {
             "outlinewidth": 0,
             "ticks": ""
            },
            "colorscale": [
             [
              0,
              "#0d0887"
             ],
             [
              0.1111111111111111,
              "#46039f"
             ],
             [
              0.2222222222222222,
              "#7201a8"
             ],
             [
              0.3333333333333333,
              "#9c179e"
             ],
             [
              0.4444444444444444,
              "#bd3786"
             ],
             [
              0.5555555555555556,
              "#d8576b"
             ],
             [
              0.6666666666666666,
              "#ed7953"
             ],
             [
              0.7777777777777778,
              "#fb9f3a"
             ],
             [
              0.8888888888888888,
              "#fdca26"
             ],
             [
              1,
              "#f0f921"
             ]
            ],
            "type": "heatmap"
           }
          ],
          "heatmapgl": [
           {
            "colorbar": {
             "outlinewidth": 0,
             "ticks": ""
            },
            "colorscale": [
             [
              0,
              "#0d0887"
             ],
             [
              0.1111111111111111,
              "#46039f"
             ],
             [
              0.2222222222222222,
              "#7201a8"
             ],
             [
              0.3333333333333333,
              "#9c179e"
             ],
             [
              0.4444444444444444,
              "#bd3786"
             ],
             [
              0.5555555555555556,
              "#d8576b"
             ],
             [
              0.6666666666666666,
              "#ed7953"
             ],
             [
              0.7777777777777778,
              "#fb9f3a"
             ],
             [
              0.8888888888888888,
              "#fdca26"
             ],
             [
              1,
              "#f0f921"
             ]
            ],
            "type": "heatmapgl"
           }
          ],
          "histogram": [
           {
            "marker": {
             "pattern": {
              "fillmode": "overlay",
              "size": 10,
              "solidity": 0.2
             }
            },
            "type": "histogram"
           }
          ],
          "histogram2d": [
           {
            "colorbar": {
             "outlinewidth": 0,
             "ticks": ""
            },
            "colorscale": [
             [
              0,
              "#0d0887"
             ],
             [
              0.1111111111111111,
              "#46039f"
             ],
             [
              0.2222222222222222,
              "#7201a8"
             ],
             [
              0.3333333333333333,
              "#9c179e"
             ],
             [
              0.4444444444444444,
              "#bd3786"
             ],
             [
              0.5555555555555556,
              "#d8576b"
             ],
             [
              0.6666666666666666,
              "#ed7953"
             ],
             [
              0.7777777777777778,
              "#fb9f3a"
             ],
             [
              0.8888888888888888,
              "#fdca26"
             ],
             [
              1,
              "#f0f921"
             ]
            ],
            "type": "histogram2d"
           }
          ],
          "histogram2dcontour": [
           {
            "colorbar": {
             "outlinewidth": 0,
             "ticks": ""
            },
            "colorscale": [
             [
              0,
              "#0d0887"
             ],
             [
              0.1111111111111111,
              "#46039f"
             ],
             [
              0.2222222222222222,
              "#7201a8"
             ],
             [
              0.3333333333333333,
              "#9c179e"
             ],
             [
              0.4444444444444444,
              "#bd3786"
             ],
             [
              0.5555555555555556,
              "#d8576b"
             ],
             [
              0.6666666666666666,
              "#ed7953"
             ],
             [
              0.7777777777777778,
              "#fb9f3a"
             ],
             [
              0.8888888888888888,
              "#fdca26"
             ],
             [
              1,
              "#f0f921"
             ]
            ],
            "type": "histogram2dcontour"
           }
          ],
          "mesh3d": [
           {
            "colorbar": {
             "outlinewidth": 0,
             "ticks": ""
            },
            "type": "mesh3d"
           }
          ],
          "parcoords": [
           {
            "line": {
             "colorbar": {
              "outlinewidth": 0,
              "ticks": ""
             }
            },
            "type": "parcoords"
           }
          ],
          "pie": [
           {
            "automargin": true,
            "type": "pie"
           }
          ],
          "scatter": [
           {
            "fillpattern": {
             "fillmode": "overlay",
             "size": 10,
             "solidity": 0.2
            },
            "type": "scatter"
           }
          ],
          "scatter3d": [
           {
            "line": {
             "colorbar": {
              "outlinewidth": 0,
              "ticks": ""
             }
            },
            "marker": {
             "colorbar": {
              "outlinewidth": 0,
              "ticks": ""
             }
            },
            "type": "scatter3d"
           }
          ],
          "scattercarpet": [
           {
            "marker": {
             "colorbar": {
              "outlinewidth": 0,
              "ticks": ""
             }
            },
            "type": "scattercarpet"
           }
          ],
          "scattergeo": [
           {
            "marker": {
             "colorbar": {
              "outlinewidth": 0,
              "ticks": ""
             }
            },
            "type": "scattergeo"
           }
          ],
          "scattergl": [
           {
            "marker": {
             "colorbar": {
              "outlinewidth": 0,
              "ticks": ""
             }
            },
            "type": "scattergl"
           }
          ],
          "scattermapbox": [
           {
            "marker": {
             "colorbar": {
              "outlinewidth": 0,
              "ticks": ""
             }
            },
            "type": "scattermapbox"
           }
          ],
          "scatterpolar": [
           {
            "marker": {
             "colorbar": {
              "outlinewidth": 0,
              "ticks": ""
             }
            },
            "type": "scatterpolar"
           }
          ],
          "scatterpolargl": [
           {
            "marker": {
             "colorbar": {
              "outlinewidth": 0,
              "ticks": ""
             }
            },
            "type": "scatterpolargl"
           }
          ],
          "scatterternary": [
           {
            "marker": {
             "colorbar": {
              "outlinewidth": 0,
              "ticks": ""
             }
            },
            "type": "scatterternary"
           }
          ],
          "surface": [
           {
            "colorbar": {
             "outlinewidth": 0,
             "ticks": ""
            },
            "colorscale": [
             [
              0,
              "#0d0887"
             ],
             [
              0.1111111111111111,
              "#46039f"
             ],
             [
              0.2222222222222222,
              "#7201a8"
             ],
             [
              0.3333333333333333,
              "#9c179e"
             ],
             [
              0.4444444444444444,
              "#bd3786"
             ],
             [
              0.5555555555555556,
              "#d8576b"
             ],
             [
              0.6666666666666666,
              "#ed7953"
             ],
             [
              0.7777777777777778,
              "#fb9f3a"
             ],
             [
              0.8888888888888888,
              "#fdca26"
             ],
             [
              1,
              "#f0f921"
             ]
            ],
            "type": "surface"
           }
          ],
          "table": [
           {
            "cells": {
             "fill": {
              "color": "#EBF0F8"
             },
             "line": {
              "color": "white"
             }
            },
            "header": {
             "fill": {
              "color": "#C8D4E3"
             },
             "line": {
              "color": "white"
             }
            },
            "type": "table"
           }
          ]
         },
         "layout": {
          "annotationdefaults": {
           "arrowcolor": "#2a3f5f",
           "arrowhead": 0,
           "arrowwidth": 1
          },
          "autotypenumbers": "strict",
          "coloraxis": {
           "colorbar": {
            "outlinewidth": 0,
            "ticks": ""
           }
          },
          "colorscale": {
           "diverging": [
            [
             0,
             "#8e0152"
            ],
            [
             0.1,
             "#c51b7d"
            ],
            [
             0.2,
             "#de77ae"
            ],
            [
             0.3,
             "#f1b6da"
            ],
            [
             0.4,
             "#fde0ef"
            ],
            [
             0.5,
             "#f7f7f7"
            ],
            [
             0.6,
             "#e6f5d0"
            ],
            [
             0.7,
             "#b8e186"
            ],
            [
             0.8,
             "#7fbc41"
            ],
            [
             0.9,
             "#4d9221"
            ],
            [
             1,
             "#276419"
            ]
           ],
           "sequential": [
            [
             0,
             "#0d0887"
            ],
            [
             0.1111111111111111,
             "#46039f"
            ],
            [
             0.2222222222222222,
             "#7201a8"
            ],
            [
             0.3333333333333333,
             "#9c179e"
            ],
            [
             0.4444444444444444,
             "#bd3786"
            ],
            [
             0.5555555555555556,
             "#d8576b"
            ],
            [
             0.6666666666666666,
             "#ed7953"
            ],
            [
             0.7777777777777778,
             "#fb9f3a"
            ],
            [
             0.8888888888888888,
             "#fdca26"
            ],
            [
             1,
             "#f0f921"
            ]
           ],
           "sequentialminus": [
            [
             0,
             "#0d0887"
            ],
            [
             0.1111111111111111,
             "#46039f"
            ],
            [
             0.2222222222222222,
             "#7201a8"
            ],
            [
             0.3333333333333333,
             "#9c179e"
            ],
            [
             0.4444444444444444,
             "#bd3786"
            ],
            [
             0.5555555555555556,
             "#d8576b"
            ],
            [
             0.6666666666666666,
             "#ed7953"
            ],
            [
             0.7777777777777778,
             "#fb9f3a"
            ],
            [
             0.8888888888888888,
             "#fdca26"
            ],
            [
             1,
             "#f0f921"
            ]
           ]
          },
          "colorway": [
           "#636efa",
           "#EF553B",
           "#00cc96",
           "#ab63fa",
           "#FFA15A",
           "#19d3f3",
           "#FF6692",
           "#B6E880",
           "#FF97FF",
           "#FECB52"
          ],
          "font": {
           "color": "#2a3f5f"
          },
          "geo": {
           "bgcolor": "white",
           "lakecolor": "white",
           "landcolor": "#E5ECF6",
           "showlakes": true,
           "showland": true,
           "subunitcolor": "white"
          },
          "hoverlabel": {
           "align": "left"
          },
          "hovermode": "closest",
          "mapbox": {
           "style": "light"
          },
          "paper_bgcolor": "white",
          "plot_bgcolor": "#E5ECF6",
          "polar": {
           "angularaxis": {
            "gridcolor": "white",
            "linecolor": "white",
            "ticks": ""
           },
           "bgcolor": "#E5ECF6",
           "radialaxis": {
            "gridcolor": "white",
            "linecolor": "white",
            "ticks": ""
           }
          },
          "scene": {
           "xaxis": {
            "backgroundcolor": "#E5ECF6",
            "gridcolor": "white",
            "gridwidth": 2,
            "linecolor": "white",
            "showbackground": true,
            "ticks": "",
            "zerolinecolor": "white"
           },
           "yaxis": {
            "backgroundcolor": "#E5ECF6",
            "gridcolor": "white",
            "gridwidth": 2,
            "linecolor": "white",
            "showbackground": true,
            "ticks": "",
            "zerolinecolor": "white"
           },
           "zaxis": {
            "backgroundcolor": "#E5ECF6",
            "gridcolor": "white",
            "gridwidth": 2,
            "linecolor": "white",
            "showbackground": true,
            "ticks": "",
            "zerolinecolor": "white"
           }
          },
          "shapedefaults": {
           "line": {
            "color": "#2a3f5f"
           }
          },
          "ternary": {
           "aaxis": {
            "gridcolor": "white",
            "linecolor": "white",
            "ticks": ""
           },
           "baxis": {
            "gridcolor": "white",
            "linecolor": "white",
            "ticks": ""
           },
           "bgcolor": "#E5ECF6",
           "caxis": {
            "gridcolor": "white",
            "linecolor": "white",
            "ticks": ""
           }
          },
          "title": {
           "x": 0.05
          },
          "xaxis": {
           "automargin": true,
           "gridcolor": "white",
           "linecolor": "white",
           "ticks": "",
           "title": {
            "standoff": 15
           },
           "zerolinecolor": "white",
           "zerolinewidth": 2
          },
          "yaxis": {
           "automargin": true,
           "gridcolor": "white",
           "linecolor": "white",
           "ticks": "",
           "title": {
            "standoff": 15
           },
           "zerolinecolor": "white",
           "zerolinewidth": 2
          }
         }
        },
        "title": {
         "text": "Elbow Plot"
        },
        "xaxis": {
         "anchor": "y",
         "domain": [
          0,
          1
         ],
         "title": {
          "text": "No. of Clusters"
         }
        },
        "yaxis": {
         "anchor": "x",
         "domain": [
          0,
          1
         ],
         "title": {
          "text": "wcss"
         }
        }
       }
      }
     },
     "metadata": {},
     "output_type": "display_data"
    }
   ],
   "source": [
    "'''\n",
    "Use K-means clustering to assign listening record to a cluster\n",
    "'''\n",
    "import plotly.express as px\n",
    "\n",
    "trial_df = df.copy(deep=True)\n",
    "\n",
    "# Drop the target features\n",
    "target_columns = ['danceability', 'energy', 'key', 'loudness', 'mode',\n",
    "                'speechiness', 'acousticness', 'instrumentalness', 'liveness',\n",
    "                'valence', 'tempo', 'time_signature']\n",
    "cluster_df = trial_df.drop(labels=target_columns,axis=1)\n",
    "\n",
    "# Find the optimal k value\n",
    "wcss = []\n",
    "for K in range(1, 20):\n",
    "    kmeans_model = MiniBatchKMeans(n_clusters=K, \n",
    "                                   init='k-means++',\n",
    "                                   random_state=42,\n",
    "                                   n_init='auto')\n",
    "    kmeans_model.fit(cluster_df)\n",
    "    wcss.append(kmeans_model.inertia_)\n",
    "    \n",
    "# Use the Elbow method\n",
    "fig = px.line(x=range(1, 20), y=wcss, title='Elbow Plot', labels={'x':'No. of Clusters', 'y':'wcss'})\n",
    "fig.show()"
   ]
  },
  {
   "cell_type": "code",
   "execution_count": 22,
   "metadata": {},
   "outputs": [],
   "source": [
    "'''\n",
    "Check the track attributes based on cluster\n",
    "'''\n",
    "# Get only the spatial and time data for model training\n",
    "target_columns = ['danceability', 'energy', 'key', 'loudness', 'mode',\n",
    "                'speechiness', 'acousticness', 'instrumentalness', 'liveness',\n",
    "                'valence', 'tempo', 'time_signature']\n",
    "cluster_df = df.drop(labels=target_columns,axis=1)\n",
    "\n",
    "# Generate the clusters\n",
    "model = MiniBatchKMeans(n_clusters=8, \n",
    "                        init='k-means++',\n",
    "                        random_state=42,\n",
    "                        n_init='auto')\n",
    "y_means = model.fit_predict(cluster_df)\n",
    "\n",
    "# Append clustering to dataframe\n",
    "df['clusters'] = y_means.astype(int)"
   ]
  },
  {
   "cell_type": "code",
   "execution_count": 30,
   "metadata": {},
   "outputs": [
    {
     "data": {
      "image/png": "[encoded data removed]",
      "text/plain": [
       "<Figure size 565.361x500 with 1 Axes>"
      ]
     },
     "metadata": {},
     "output_type": "display_data"
    }
   ],
   "source": [
    "import seaborn as sns\n",
    "import matplotlib.pyplot as plt\n",
    "\n",
    "target_columns = ['danceability', 'loudness', 'speechiness', 'acousticness', 'instrumentalness', 'liveness']\n",
    "\n",
    "sns.displot(data=df, x='liveness', hue='clusters', kde=True)\n",
    "plt.show()"
   ]
  },
  {
   "cell_type": "code",
   "execution_count": 31,
   "metadata": {},
   "outputs": [
    {
     "name": "stdout",
     "output_type": "stream",
     "text": [
      "average for cluster 0 is: \n",
      "danceability          0.567696\n",
      "energy                0.487490\n",
      "key                   5.216463\n",
      "loudness             -8.459706\n",
      "mode                  0.732724\n",
      "speechiness           0.079967\n",
      "acousticness          0.463455\n",
      "instrumentalness      0.057009\n",
      "liveness              0.165521\n",
      "valence               0.351334\n",
      "tempo               116.887975\n",
      "time_signature        3.922764\n",
      "dtype: float64 \n",
      "average for cluster 1 is: \n",
      "danceability          0.548922\n",
      "energy                0.531598\n",
      "key                   5.349791\n",
      "loudness             -7.784992\n",
      "mode                  0.766527\n",
      "speechiness           0.072832\n",
      "acousticness          0.378872\n",
      "instrumentalness      0.042415\n",
      "liveness              0.160319\n",
      "valence               0.367406\n",
      "tempo               119.272278\n",
      "time_signature        3.884519\n",
      "dtype: float64 \n",
      "average for cluster 2 is: \n",
      "danceability          0.576614\n",
      "energy                0.517984\n",
      "key                   5.293624\n",
      "loudness             -8.294227\n",
      "mode                  0.686242\n",
      "speechiness           0.111337\n",
      "acousticness          0.434740\n",
      "instrumentalness      0.047075\n",
      "liveness              0.171164\n",
      "valence               0.400928\n",
      "tempo               116.947436\n",
      "time_signature        3.929530\n",
      "dtype: float64 \n",
      "average for cluster 3 is: \n",
      "danceability          0.537995\n",
      "energy                0.531411\n",
      "key                   5.208010\n",
      "loudness             -7.709239\n",
      "mode                  0.766150\n",
      "speechiness           0.070217\n",
      "acousticness          0.406331\n",
      "instrumentalness      0.043498\n",
      "liveness              0.170412\n",
      "valence               0.365677\n",
      "tempo               118.754495\n",
      "time_signature        3.905685\n",
      "dtype: float64 \n",
      "average for cluster 4 is: \n",
      "danceability          0.527069\n",
      "energy                0.544860\n",
      "key                   5.154687\n",
      "loudness             -7.906905\n",
      "mode                  0.818750\n",
      "speechiness           0.061214\n",
      "acousticness          0.360676\n",
      "instrumentalness      0.057994\n",
      "liveness              0.160672\n",
      "valence               0.353431\n",
      "tempo               120.245736\n",
      "time_signature        3.909375\n",
      "dtype: float64 \n",
      "average for cluster 5 is: \n",
      "danceability          0.541973\n",
      "energy                0.516816\n",
      "key                   4.821826\n",
      "loudness             -8.155924\n",
      "mode                  0.772829\n",
      "speechiness           0.063491\n",
      "acousticness          0.393229\n",
      "instrumentalness      0.047264\n",
      "liveness              0.172869\n",
      "valence               0.375026\n",
      "tempo               118.465394\n",
      "time_signature        3.933185\n",
      "dtype: float64 \n",
      "average for cluster 6 is: \n",
      "danceability          0.543565\n",
      "energy                0.481599\n",
      "key                   5.187633\n",
      "loudness             -8.432868\n",
      "mode                  0.805970\n",
      "speechiness           0.058608\n",
      "acousticness          0.465766\n",
      "instrumentalness      0.058457\n",
      "liveness              0.150636\n",
      "valence               0.333732\n",
      "tempo               120.339606\n",
      "time_signature        3.842217\n",
      "dtype: float64 \n",
      "average for cluster 7 is: \n",
      "danceability          0.535702\n",
      "energy                0.465069\n",
      "key                   5.015198\n",
      "loudness             -8.492757\n",
      "mode                  0.802432\n",
      "speechiness           0.063519\n",
      "acousticness          0.478586\n",
      "instrumentalness      0.025697\n",
      "liveness              0.147539\n",
      "valence               0.336156\n",
      "tempo               118.549523\n",
      "time_signature        3.911854\n",
      "dtype: float64 \n"
     ]
    }
   ],
   "source": [
    "# Get average value for each attribute given cluster\n",
    "\n",
    "track_df = df.copy(deep=True)\n",
    "\n",
    "target_columns = ['danceability', 'energy', 'key', 'loudness', 'mode',\n",
    "                'speechiness', 'acousticness', 'instrumentalness', 'liveness',\n",
    "                'valence', 'tempo', 'time_signature']\n",
    "\n",
    "for i in range(len(track_df.clusters.unique())):\n",
    "    cluster_data = track_df[track_df['clusters'] == i]\n",
    "    average_values = np.mean(cluster_data[target_columns], axis=0)\n",
    "    print('average for cluster {} is: \\n{} '.format(i, average_values))"
   ]
  },
  {
   "cell_type": "markdown",
   "metadata": {},
   "source": [
    "## Classification approach"
   ]
  },
  {
   "cell_type": "code",
   "execution_count": null,
   "metadata": {},
   "outputs": [],
   "source": [
    "# split target variables to continuous and discrete \n",
    "cont_targets = []\n",
    "disc_targets = []"
   ]
  },
  {
   "cell_type": "code",
   "execution_count": null,
   "metadata": {},
   "outputs": [],
   "source": [
    "'''\n",
    "Try predict track attributes based on random forest regression model\n",
    "'''\n",
    "\n"
   ]
  },
  {
   "cell_type": "code",
   "execution_count": null,
   "metadata": {},
   "outputs": [],
   "source": [
    "'''\n",
    "Try predict track attributes based on random forest classification model\n",
    "'''\n",
    "\n"
   ]
  },
  {
   "cell_type": "markdown",
   "metadata": {},
   "source": [
    "## Spotify track attributes guideline\n",
    "\n",
    "<div class=\"alert alert-block alert-info\">\n",
    "\n",
    "- <b> Continuous variable (0 - 1.0): </b>\n",
    "    - danceability\n",
    "    - energy\n",
    "    - acousticness\n",
    "    - instrumentalness (value above 0.5 indicates instrumental track)\n",
    "    - liveness\n",
    "    - speechiness (values above 0.6 likely fully spoken word)\n",
    "    - valence\n",
    "    - tempo (average beat duration)\n",
    "<br/><br/>\n",
    "- <b> Discrete variables: </b>\n",
    "    - key (1 - 11, else -1)\n",
    "    - mode (0 / 1)\n",
    "    - time_signature (3-7)\n",
    "    - loudness (typically -60 to 0)\n",
    "</div>"
   ]
  },
  {
   "cell_type": "markdown",
   "metadata": {},
   "source": [
    "## FINAL METHODS"
   ]
  },
  {
   "cell_type": "code",
   "execution_count": null,
   "metadata": {},
   "outputs": [],
   "source": [
    "'''\n",
    "Get 5 seed tracks from user_history\n",
    "'''\n",
    "def get_seed_tracks(df, timestamp):\n",
    "    # split date-time to individual parts\n",
    "    df['ts'] = df['ts'].apply(lambda x: convert_timestamp_to_nearest_min(x))\n",
    "    df['month'] = pd.DatetimeIndex(df[\"ts\"]).month\n",
    "    df['weekday'] = pd.DatetimeIndex(df[\"ts\"]).weekday\n",
    "    df['hour'] = pd.DatetimeIndex(df[\"ts\"]).hour\n",
    "    df['min'] = pd.DatetimeIndex(df[\"ts\"]).minute\n",
    "    \n",
    "    # Extract the month, weekday, and hour from the given timestamp\n",
    "    given_timestamp =  pd.to_datetime(timestamp)\n",
    "    given_month = given_timestamp.month()\n",
    "    given_weekday = given_timestamp.weekday()\n",
    "    given_hour = given_timestamp.hour()\n",
    "    given_minute = given_timestamp.minute()\n",
    "\n",
    "    # Calculate the absolute time differences between the given timestamp and each row in the dataframe\n",
    "    df['time_diff'] = (abs(df['month'] - given_month) + abs(df['weekday'] - given_weekday) + \n",
    "                       abs(df['hour'] - given_hour) + abs(df['min'] - given_minute))\n",
    "\n",
    "    # Sort the dataframe by the time differences in ascending order\n",
    "    df_sorted = df.sort_values('time_diff')\n",
    "\n",
    "    # Get the 5 rows with the closest matching timestamps\n",
    "    closest_rows = df_sorted.head(5)\n",
    "\n",
    "    # Remove created columns\n",
    "    columns = ['ts','month','weekday','hour','min','time_diff']\n",
    "    df.drop(labels=columns,inplace=True,axis=1)\n",
    "\n",
    "    return closest_rows['track_id']"
   ]
  },
  {
   "cell_type": "code",
   "execution_count": null,
   "metadata": {},
   "outputs": [],
   "source": [
    "'''\n",
    "Pre-process user listening history data\n",
    "\n",
    "format: id // userid // latitude // longitude // spotify_track_id // timestamp\n",
    "'''\n",
    "def preprocess_data(user_history):\n",
    "    # convert timestamp to nearest minute\n",
    "    user_history['timestamp'] = user_history['timestamp'].apply(lambda x: convert_timestamp_to_nearest_min(x))\n",
    "    \n",
    "    # Get list of unique songs \n",
    "    track_list = user_history['spotify_track_id'].unique().tolist()\n",
    "\n",
    "    # Get track attributes\n",
    "    track_features_df = getTrackAttributes(track_list, 100)\n",
    "\n",
    "    # Drop columns which are meta info about track features\n",
    "    track_features_df.drop(labels=['type','uri','track_href','analysis_url'], \n",
    "                            axis=1, \n",
    "                            inplace=True)\n",
    "\n",
    "    # Rename to match merged df naming convention\n",
    "    track_features_df.rename(columns={'uri':'spotify_track_id'}, inplace=True)\n",
    "\n",
    "    # Merge with main dataframe\n",
    "    merged_df = pd.merge(left = user_history,\n",
    "                    right = track_features_df,\n",
    "                    on='spotify_track_id',\n",
    "                    how='left')\n",
    "    \n",
    "    # Drop track_id once merged\n",
    "    merged_df.drop(labels='spotify_track_id', inplace=True, axis=1)                    \n",
    "    \n",
    "    return merged_df\n"
   ]
  },
  {
   "cell_type": "code",
   "execution_count": null,
   "metadata": {},
   "outputs": [],
   "source": [
    "'''\n",
    "Do feature engineering on the dataframe before fit into model\n",
    "'''\n",
    "\n",
    "def perform_FE(df):\n",
    "    # perform fe on timestamp\n",
    "    fe_timestamp(df=df)\n",
    "\n",
    "    # perform fe on coordinates\n",
    "    fe_coordinates(df=df)\n",
    "\n",
    "    # drop original columns\n",
    "    original_columns = ['timestamp','latitude','longitude','hour']\n",
    "    df.drop(labels=original_columns, inplace=True, axis=1)\n",
    "\n",
    "    # perform OHE on FE columns\n",
    "    df = pd.get_dummies(data=df, columns=['time_fe','location_fe'])\n",
    "\n",
    "    # reset index\n",
    "    df.reset_index(level=None, drop=True, inplace=True)\n",
    "\n",
    "    return df"
   ]
  },
  {
   "cell_type": "code",
   "execution_count": null,
   "metadata": {},
   "outputs": [],
   "source": [
    "'''\n",
    "Make new prediction given pre-processed user listening history\n",
    "\n",
    "df = user history\n",
    "model = base model\n",
    "cur_request = array of current timestamp & location\n",
    "'''\n",
    "def predict_song_attributes(df, model, cur_request):\n",
    "\n",
    "    # fit user data to loaded base model\n",
    "    model.partial_fit(df)\n",
    "    \n",
    "    # predict clusters for user data\n",
    "    y_means = model.predict(df)\n",
    "    \n",
    "    # append clusters to user history\n",
    "    df['clusters'] = y_means.astype(int)\n",
    "\n",
    "    # predict cluster allocation for request\n",
    "    i = model.predict(cur_request)\n",
    "\n",
    "    # find average value given the predicted cluster\n",
    "    cluster_data = df[df['clusters'] == i]\n",
    "    average_values = np.mean(cluster_data, axis=0)\n",
    "\n",
    "    # return average value\n",
    "    return average_values"
   ]
  },
  {
   "cell_type": "code",
   "execution_count": null,
   "metadata": {},
   "outputs": [],
   "source": [
    "'''\n",
    "Form JSON response with min/max values for track attributes with seed tracks\n",
    "'''\n",
    "def form_recommendation(seed_tracks, track_attributes):\n",
    "\n",
    "    # adjust the track attribute target to follow spotify guideline\n",
    "    \n",
    "    # update with the min and max value for each attribute\n",
    "    "
   ]
  }
 ],
 "metadata": {
  "kernelspec": {
   "display_name": "base",
   "language": "python",
   "name": "python3"
  },
  "language_info": {
   "codemirror_mode": {
    "name": "ipython",
    "version": 3
   },
   "file_extension": ".py",
   "mimetype": "text/x-python",
   "name": "python",
   "nbconvert_exporter": "python",
   "pygments_lexer": "ipython3",
   "version": "3.10.10"
  },
  "orig_nbformat": 4
 },
 "nbformat": 4,
 "nbformat_minor": 2
}
