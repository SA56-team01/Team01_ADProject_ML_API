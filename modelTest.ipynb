{
 "cells": [
  {
   "cell_type": "code",
   "execution_count": null,
   "metadata": {},
   "outputs": [],
   "source": [
    "# import all libraries\n",
    "import numpy as np\n",
    "import pandas as pd\n",
    "import json \n",
    "import csv\n",
    "import os\n",
    "import datetime\n",
    "import time\n",
    "import requests\n",
    "import spotipy\n",
    "from spotipy.oauth2 import SpotifyClientCredentials\n",
    "import pickle\n",
    "import ml_model_api as methods\n",
    "\n",
    "from itertools import product\n",
    "from functools import reduce\n",
    "from sklearn.cluster import MiniBatchKMeans\n",
    "from sklearn.preprocessing import OneHotEncoder, LabelEncoder"
   ]
  },
  {
   "cell_type": "code",
   "execution_count": null,
   "metadata": {},
   "outputs": [],
   "source": [
    "pd.options.display.max_columns = 500\n",
    "pd.options.display.max_rows = 500"
   ]
  },
  {
   "cell_type": "code",
   "execution_count": null,
   "metadata": {},
   "outputs": [],
   "source": [
    "# make mock user data\n",
    "data = {'timestamp': ['2021-11-02 12:32:59','2022-11-02 13:32:41','2022-11-02 05:32:32', '2022-11-03 19:32:32'],\n",
    "    'latitude': [1.360, 1.373, 1.428, 1.428],\n",
    "    'longitude': [103.754, 103.866, 103.809, 103.809],\n",
    "    'spotifyTrackId': ['1Yqe3VYgjOhhJLtqkla2zc', '5zviMoAeuerK1Rd58qXASv','1ENQZlb9iVUnCoN2QtI77e','1ENQZlb9iVUnCoN2QtI77e']}\n",
    "user_history = pd.DataFrame(data)\n",
    "user_history.head()\n"
   ]
  },
  {
   "cell_type": "code",
   "execution_count": null,
   "metadata": {},
   "outputs": [],
   "source": [
    "# get seed tracks\n",
    "seed_tracks = methods.get_seed_tracks(user_history, '2022-11-02 13:32:41')\n",
    "print(seed_tracks)"
   ]
  },
  {
   "cell_type": "code",
   "execution_count": null,
   "metadata": {},
   "outputs": [],
   "source": [
    "# clean data\n",
    "df = methods.preprocess_data(user_history)\n",
    "df.head()\n"
   ]
  },
  {
   "cell_type": "code",
   "execution_count": null,
   "metadata": {},
   "outputs": [],
   "source": [
    "# perform feature engineering\n",
    "df = methods.perform_fe(df)\n",
    "df.head()\n",
    "print(df.shape)"
   ]
  },
  {
   "cell_type": "code",
   "execution_count": null,
   "metadata": {},
   "outputs": [],
   "source": [
    "df"
   ]
  },
  {
   "cell_type": "code",
   "execution_count": null,
   "metadata": {},
   "outputs": [],
   "source": [
    "# make a request\n",
    "cur_request = {\n",
    "    'latitude':1.360,\n",
    "    'longitude':103.754,\n",
    "    'timestamp':['2023-08-12 20:00:59']\n",
    "}\n",
    "request_df = pd.DataFrame(cur_request)\n",
    "request_df"
   ]
  },
  {
   "cell_type": "code",
   "execution_count": null,
   "metadata": {},
   "outputs": [],
   "source": [
    "# predict track attributes\n",
    "average_attributes = methods.predict_song_attributes(df, request_df)\n",
    "print(average_attributes.shape)"
   ]
  },
  {
   "cell_type": "code",
   "execution_count": null,
   "metadata": {},
   "outputs": [],
   "source": [
    "average_attributes"
   ]
  },
  {
   "cell_type": "code",
   "execution_count": null,
   "metadata": {},
   "outputs": [],
   "source": [
    "# form recommendation\n",
    "predicted_track_attributes = methods.form_recommendation_with_seed_tracks(seed_tracks, average_attributes)\n",
    "predicted_track_attributes"
   ]
  }
 ],
 "metadata": {
  "kernelspec": {
   "display_name": "base",
   "language": "python",
   "name": "python3"
  },
  "language_info": {
   "codemirror_mode": {
    "name": "ipython",
    "version": 3
   },
   "file_extension": ".py",
   "mimetype": "text/x-python",
   "name": "python",
   "nbconvert_exporter": "python",
   "pygments_lexer": "ipython3",
   "version": "3.10.10"
  },
  "orig_nbformat": 4
 },
 "nbformat": 4,
 "nbformat_minor": 2
}
